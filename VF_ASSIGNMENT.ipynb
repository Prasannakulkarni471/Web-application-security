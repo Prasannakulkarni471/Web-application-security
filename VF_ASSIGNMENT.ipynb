{
  "nbformat": 4,
  "nbformat_minor": 0,
  "metadata": {
    "colab": {
      "name": "VF_ASSIGNMENT.ipynb",
      "provenance": [],
      "collapsed_sections": [],
      "authorship_tag": "ABX9TyMM4tvKKKgkjqnm3a+KHtDk",
      "include_colab_link": true
    },
    "kernelspec": {
      "name": "python3",
      "display_name": "Python 3"
    },
    "language_info": {
      "name": "python"
    }
  },
  "cells": [
    {
      "cell_type": "markdown",
      "metadata": {
        "id": "view-in-github",
        "colab_type": "text"
      },
      "source": [
        "<a href=\"https://colab.research.google.com/github/Prasannakulkarni471/Web-application-security/blob/main/VF_ASSIGNMENT.ipynb\" target=\"_parent\"><img src=\"https://colab.research.google.com/assets/colab-badge.svg\" alt=\"Open In Colab\"/></a>"
      ]
    },
    {
      "cell_type": "code",
      "metadata": {
        "id": "WA8EASy7zzLM"
      },
      "source": [
        "import numpy as np\n",
        "import pandas as pd\n",
        "import matplotlib.pyplot as plt\n",
        "import seaborn as sns"
      ],
      "execution_count": null,
      "outputs": []
    },
    {
      "cell_type": "code",
      "metadata": {
        "colab": {
          "base_uri": "https://localhost:8080/",
          "height": 419
        },
        "id": "HVpzFSJh0XVc",
        "outputId": "0bc5c661-fabc-4d43-feda-216c209c11c8"
      },
      "source": [
        "data=pd.read_csv('https://raw.githubusercontent.com/omiiii21/Vodafone_Assignment/main/cars.csv')\n",
        "data"
      ],
      "execution_count": null,
      "outputs": [
        {
          "output_type": "execute_result",
          "data": {
            "text/html": [
              "<div>\n",
              "<style scoped>\n",
              "    .dataframe tbody tr th:only-of-type {\n",
              "        vertical-align: middle;\n",
              "    }\n",
              "\n",
              "    .dataframe tbody tr th {\n",
              "        vertical-align: top;\n",
              "    }\n",
              "\n",
              "    .dataframe thead th {\n",
              "        text-align: right;\n",
              "    }\n",
              "</style>\n",
              "<table border=\"1\" class=\"dataframe\">\n",
              "  <thead>\n",
              "    <tr style=\"text-align: right;\">\n",
              "      <th></th>\n",
              "      <th>mpg</th>\n",
              "      <th>cylinders</th>\n",
              "      <th>cubicinches</th>\n",
              "      <th>hp</th>\n",
              "      <th>weightlbs</th>\n",
              "      <th>time-to-60</th>\n",
              "      <th>year</th>\n",
              "      <th>brand</th>\n",
              "    </tr>\n",
              "  </thead>\n",
              "  <tbody>\n",
              "    <tr>\n",
              "      <th>0</th>\n",
              "      <td>14.0</td>\n",
              "      <td>8</td>\n",
              "      <td>350.0</td>\n",
              "      <td>165</td>\n",
              "      <td>4209.0</td>\n",
              "      <td>12</td>\n",
              "      <td>1972</td>\n",
              "      <td>US.</td>\n",
              "    </tr>\n",
              "    <tr>\n",
              "      <th>1</th>\n",
              "      <td>31.9</td>\n",
              "      <td>4</td>\n",
              "      <td>89.0</td>\n",
              "      <td>71</td>\n",
              "      <td>1925.0</td>\n",
              "      <td>14</td>\n",
              "      <td>1980</td>\n",
              "      <td>Europe.</td>\n",
              "    </tr>\n",
              "    <tr>\n",
              "      <th>2</th>\n",
              "      <td>17.0</td>\n",
              "      <td>8</td>\n",
              "      <td>302.0</td>\n",
              "      <td>140</td>\n",
              "      <td>3449.0</td>\n",
              "      <td>11</td>\n",
              "      <td>1971</td>\n",
              "      <td>US.</td>\n",
              "    </tr>\n",
              "    <tr>\n",
              "      <th>3</th>\n",
              "      <td>15.0</td>\n",
              "      <td>8</td>\n",
              "      <td>400.0</td>\n",
              "      <td>150</td>\n",
              "      <td>3761.0</td>\n",
              "      <td>10</td>\n",
              "      <td>1971</td>\n",
              "      <td>US.</td>\n",
              "    </tr>\n",
              "    <tr>\n",
              "      <th>4</th>\n",
              "      <td>30.5</td>\n",
              "      <td>4</td>\n",
              "      <td>98.0</td>\n",
              "      <td>63</td>\n",
              "      <td>2051.0</td>\n",
              "      <td>17</td>\n",
              "      <td>1978</td>\n",
              "      <td>US.</td>\n",
              "    </tr>\n",
              "    <tr>\n",
              "      <th>...</th>\n",
              "      <td>...</td>\n",
              "      <td>...</td>\n",
              "      <td>...</td>\n",
              "      <td>...</td>\n",
              "      <td>...</td>\n",
              "      <td>...</td>\n",
              "      <td>...</td>\n",
              "      <td>...</td>\n",
              "    </tr>\n",
              "    <tr>\n",
              "      <th>256</th>\n",
              "      <td>17.0</td>\n",
              "      <td>8</td>\n",
              "      <td>305.0</td>\n",
              "      <td>130</td>\n",
              "      <td>3840.0</td>\n",
              "      <td>15</td>\n",
              "      <td>1980</td>\n",
              "      <td>US.</td>\n",
              "    </tr>\n",
              "    <tr>\n",
              "      <th>257</th>\n",
              "      <td>36.1</td>\n",
              "      <td>4</td>\n",
              "      <td>91.0</td>\n",
              "      <td>60</td>\n",
              "      <td>1800.0</td>\n",
              "      <td>16</td>\n",
              "      <td>1979</td>\n",
              "      <td>Japan.</td>\n",
              "    </tr>\n",
              "    <tr>\n",
              "      <th>258</th>\n",
              "      <td>22.0</td>\n",
              "      <td>6</td>\n",
              "      <td>232.0</td>\n",
              "      <td>112</td>\n",
              "      <td>2835.0</td>\n",
              "      <td>15</td>\n",
              "      <td>1983</td>\n",
              "      <td>US.</td>\n",
              "    </tr>\n",
              "    <tr>\n",
              "      <th>259</th>\n",
              "      <td>18.0</td>\n",
              "      <td>6</td>\n",
              "      <td>232.0</td>\n",
              "      <td>100</td>\n",
              "      <td>3288.0</td>\n",
              "      <td>16</td>\n",
              "      <td>1972</td>\n",
              "      <td>US.</td>\n",
              "    </tr>\n",
              "    <tr>\n",
              "      <th>260</th>\n",
              "      <td>22.0</td>\n",
              "      <td>6</td>\n",
              "      <td>250.0</td>\n",
              "      <td>105</td>\n",
              "      <td>3353.0</td>\n",
              "      <td>15</td>\n",
              "      <td>1977</td>\n",
              "      <td>US.</td>\n",
              "    </tr>\n",
              "  </tbody>\n",
              "</table>\n",
              "<p>261 rows × 8 columns</p>\n",
              "</div>"
            ],
            "text/plain": [
              "      mpg  cylinders  cubicinches   hp  weightlbs  time-to-60  year    brand\n",
              "0    14.0          8        350.0  165     4209.0          12  1972      US.\n",
              "1    31.9          4         89.0   71     1925.0          14  1980  Europe.\n",
              "2    17.0          8        302.0  140     3449.0          11  1971      US.\n",
              "3    15.0          8        400.0  150     3761.0          10  1971      US.\n",
              "4    30.5          4         98.0   63     2051.0          17  1978      US.\n",
              "..    ...        ...          ...  ...        ...         ...   ...      ...\n",
              "256  17.0          8        305.0  130     3840.0          15  1980      US.\n",
              "257  36.1          4         91.0   60     1800.0          16  1979   Japan.\n",
              "258  22.0          6        232.0  112     2835.0          15  1983      US.\n",
              "259  18.0          6        232.0  100     3288.0          16  1972      US.\n",
              "260  22.0          6        250.0  105     3353.0          15  1977      US.\n",
              "\n",
              "[261 rows x 8 columns]"
            ]
          },
          "metadata": {
            "tags": []
          },
          "execution_count": 2
        }
      ]
    },
    {
      "cell_type": "code",
      "metadata": {
        "id": "uuRrwa0G6EQp"
      },
      "source": [
        "# 1.Can you find that there has been an improvement in mpg over the years ?\n",
        "# 2.Does cubic inches of a vehicle affect the vehicle's time to reach 60 Miles per\n",
        "# hour?\n",
        "# 3.Does a specific country prefer vehicles with more horsepower ?\n",
        "# 4.How does horsepower affect the average of the vehicle ?\n",
        "# 5.How does the cubic inches affect the average of the vehicle ?\n",
        "# 6.What is the effect of the number of cylinders on the mpg ?\n",
        "# 7.What relation between cubic inches , number of cylinders and horsepower can\n",
        "# you observe from the data ?¶\n",
        "# 8.How much proportion of the total records is occupied by vehicles with 8\n",
        "# cylinders ?"
      ],
      "execution_count": null,
      "outputs": []
    },
    {
      "cell_type": "code",
      "metadata": {
        "id": "IwCR0bXU6ept",
        "colab": {
          "base_uri": "https://localhost:8080/",
          "height": 282
        },
        "outputId": "a811598e-f832-4570-83e8-707f033fa00e"
      },
      "source": [
        "#1.Can you find that there has been an improvement in mpg over the years ?\n",
        "plt.scatter(data['year'],data['mpg'])\n",
        "plt.xlabel('Year')\n",
        "plt.ylabel('mpg')"
      ],
      "execution_count": null,
      "outputs": [
        {
          "output_type": "execute_result",
          "data": {
            "text/plain": [
              "<matplotlib.collections.PathCollection at 0x7fa6eea92150>"
            ]
          },
          "metadata": {
            "tags": []
          },
          "execution_count": 10
        },
        {
          "output_type": "display_data",
          "data": {
            "image/png": "[encoded data removed]",
            "text/plain": [
              "<Figure size 432x288 with 1 Axes>"
            ]
          },
          "metadata": {
            "tags": [],
            "needs_background": "light"
          }
        }
      ]
    },
    {
      "cell_type": "code",
      "metadata": {
        "colab": {
          "base_uri": "https://localhost:8080/",
          "height": 279
        },
        "id": "sHXN20_xC4hI",
        "outputId": "5aa1ea19-4c33-4d46-88a7-48581e942357"
      },
      "source": [
        "# 2.Does cubic inches of a vehicle affect the vehicle's time to reach 60 Miles per hour?\n",
        "plt.bar(data['time-to-60'],data['cubicinches'])\n",
        "plt.xlabel('time-to-60')\n",
        "plt.ylabel('cubicinches')\n",
        "plt.show()\n",
        "#Yes cubic inches of a vehicle affect the vehicle's time to reach 60 miles per hour?"
      ],
      "execution_count": null,
      "outputs": [
        {
          "output_type": "display_data",
          "data": {
            "image/png": "[encoded data removed]",
            "text/plain": [
              "<Figure size 432x288 with 1 Axes>"
            ]
          },
          "metadata": {
            "tags": [],
            "needs_background": "light"
          }
        }
      ]
    },
    {
      "cell_type": "code",
      "metadata": {
        "colab": {
          "base_uri": "https://localhost:8080/",
          "height": 452
        },
        "id": "Xu_xfPrh-7bt",
        "outputId": "bfb7ed0e-95eb-4e38-a461-3b310a55fb27"
      },
      "source": [
        "# 3.Does a specific country prefer vehicles with more horsepower ?\n",
        "data[data['hp']>180]\n",
        "#ans = US."
      ],
      "execution_count": null,
      "outputs": [
        {
          "output_type": "execute_result",
          "data": {
            "text/html": [
              "<div>\n",
              "<style scoped>\n",
              "    .dataframe tbody tr th:only-of-type {\n",
              "        vertical-align: middle;\n",
              "    }\n",
              "\n",
              "    .dataframe tbody tr th {\n",
              "        vertical-align: top;\n",
              "    }\n",
              "\n",
              "    .dataframe thead th {\n",
              "        text-align: right;\n",
              "    }\n",
              "</style>\n",
              "<table border=\"1\" class=\"dataframe\">\n",
              "  <thead>\n",
              "    <tr style=\"text-align: right;\">\n",
              "      <th></th>\n",
              "      <th>mpg</th>\n",
              "      <th>cylinders</th>\n",
              "      <th>cubicinches</th>\n",
              "      <th>hp</th>\n",
              "      <th>weightlbs</th>\n",
              "      <th>time-to-60</th>\n",
              "      <th>year</th>\n",
              "      <th>brand</th>\n",
              "    </tr>\n",
              "  </thead>\n",
              "  <tbody>\n",
              "    <tr>\n",
              "      <th>7</th>\n",
              "      <td>14.0</td>\n",
              "      <td>8</td>\n",
              "      <td>440.0</td>\n",
              "      <td>215</td>\n",
              "      <td>4312.0</td>\n",
              "      <td>9</td>\n",
              "      <td>1971</td>\n",
              "      <td>US.</td>\n",
              "    </tr>\n",
              "    <tr>\n",
              "      <th>44</th>\n",
              "      <td>14.0</td>\n",
              "      <td>8</td>\n",
              "      <td>455.0</td>\n",
              "      <td>225</td>\n",
              "      <td>3086.0</td>\n",
              "      <td>10</td>\n",
              "      <td>1971</td>\n",
              "      <td>US.</td>\n",
              "    </tr>\n",
              "    <tr>\n",
              "      <th>55</th>\n",
              "      <td>16.0</td>\n",
              "      <td>8</td>\n",
              "      <td>400.0</td>\n",
              "      <td>230</td>\n",
              "      <td>4278.0</td>\n",
              "      <td>10</td>\n",
              "      <td>1974</td>\n",
              "      <td>US.</td>\n",
              "    </tr>\n",
              "    <tr>\n",
              "      <th>80</th>\n",
              "      <td>15.5</td>\n",
              "      <td>8</td>\n",
              "      <td>400.0</td>\n",
              "      <td>190</td>\n",
              "      <td>4325.0</td>\n",
              "      <td>12</td>\n",
              "      <td>1978</td>\n",
              "      <td>US.</td>\n",
              "    </tr>\n",
              "    <tr>\n",
              "      <th>81</th>\n",
              "      <td>12.0</td>\n",
              "      <td>8</td>\n",
              "      <td>429.0</td>\n",
              "      <td>198</td>\n",
              "      <td>4952.0</td>\n",
              "      <td>12</td>\n",
              "      <td>1974</td>\n",
              "      <td>US.</td>\n",
              "    </tr>\n",
              "    <tr>\n",
              "      <th>119</th>\n",
              "      <td>15.0</td>\n",
              "      <td>8</td>\n",
              "      <td>429.0</td>\n",
              "      <td>198</td>\n",
              "      <td>4341.0</td>\n",
              "      <td>10</td>\n",
              "      <td>1971</td>\n",
              "      <td>US.</td>\n",
              "    </tr>\n",
              "    <tr>\n",
              "      <th>132</th>\n",
              "      <td>12.0</td>\n",
              "      <td>8</td>\n",
              "      <td>455.0</td>\n",
              "      <td>225</td>\n",
              "      <td>4951.0</td>\n",
              "      <td>11</td>\n",
              "      <td>1974</td>\n",
              "      <td>US.</td>\n",
              "    </tr>\n",
              "    <tr>\n",
              "      <th>152</th>\n",
              "      <td>14.0</td>\n",
              "      <td>8</td>\n",
              "      <td>455.0</td>\n",
              "      <td>225</td>\n",
              "      <td>4425.0</td>\n",
              "      <td>10</td>\n",
              "      <td>1971</td>\n",
              "      <td>US.</td>\n",
              "    </tr>\n",
              "    <tr>\n",
              "      <th>189</th>\n",
              "      <td>13.0</td>\n",
              "      <td>8</td>\n",
              "      <td>440.0</td>\n",
              "      <td>215</td>\n",
              "      <td>4735.0</td>\n",
              "      <td>11</td>\n",
              "      <td>1974</td>\n",
              "      <td>US.</td>\n",
              "    </tr>\n",
              "    <tr>\n",
              "      <th>192</th>\n",
              "      <td>13.0</td>\n",
              "      <td>8</td>\n",
              "      <td>400.0</td>\n",
              "      <td>190</td>\n",
              "      <td>4422.0</td>\n",
              "      <td>13</td>\n",
              "      <td>1973</td>\n",
              "      <td>US.</td>\n",
              "    </tr>\n",
              "    <tr>\n",
              "      <th>205</th>\n",
              "      <td>15.0</td>\n",
              "      <td>8</td>\n",
              "      <td>390.0</td>\n",
              "      <td>190</td>\n",
              "      <td>3850.0</td>\n",
              "      <td>9</td>\n",
              "      <td>1971</td>\n",
              "      <td>US.</td>\n",
              "    </tr>\n",
              "    <tr>\n",
              "      <th>226</th>\n",
              "      <td>10.0</td>\n",
              "      <td>8</td>\n",
              "      <td>360.0</td>\n",
              "      <td>215</td>\n",
              "      <td>4615.0</td>\n",
              "      <td>14</td>\n",
              "      <td>1971</td>\n",
              "      <td>US.</td>\n",
              "    </tr>\n",
              "    <tr>\n",
              "      <th>244</th>\n",
              "      <td>14.0</td>\n",
              "      <td>8</td>\n",
              "      <td>454.0</td>\n",
              "      <td>220</td>\n",
              "      <td>4354.0</td>\n",
              "      <td>9</td>\n",
              "      <td>1971</td>\n",
              "      <td>US.</td>\n",
              "    </tr>\n",
              "  </tbody>\n",
              "</table>\n",
              "</div>"
            ],
            "text/plain": [
              "      mpg  cylinders  cubicinches   hp  weightlbs  time-to-60  year brand\n",
              "7    14.0          8        440.0  215     4312.0           9  1971   US.\n",
              "44   14.0          8        455.0  225     3086.0          10  1971   US.\n",
              "55   16.0          8        400.0  230     4278.0          10  1974   US.\n",
              "80   15.5          8        400.0  190     4325.0          12  1978   US.\n",
              "81   12.0          8        429.0  198     4952.0          12  1974   US.\n",
              "119  15.0          8        429.0  198     4341.0          10  1971   US.\n",
              "132  12.0          8        455.0  225     4951.0          11  1974   US.\n",
              "152  14.0          8        455.0  225     4425.0          10  1971   US.\n",
              "189  13.0          8        440.0  215     4735.0          11  1974   US.\n",
              "192  13.0          8        400.0  190     4422.0          13  1973   US.\n",
              "205  15.0          8        390.0  190     3850.0           9  1971   US.\n",
              "226  10.0          8        360.0  215     4615.0          14  1971   US.\n",
              "244  14.0          8        454.0  220     4354.0           9  1971   US."
            ]
          },
          "metadata": {
            "tags": []
          },
          "execution_count": 27
        }
      ]
    },
    {
      "cell_type": "code",
      "metadata": {
        "colab": {
          "base_uri": "https://localhost:8080/",
          "height": 505
        },
        "id": "o2QG1R8VEs-P",
        "outputId": "e7208869-c000-4f73-98cc-a7651ba7eed1"
      },
      "source": [
        "# 4.How does horsepower affect the average of the vehicle ?\n",
        "plt.figure(figsize=(27,10))\n",
        "sns.barplot(x=data['hp'],y=data['mpg'],data=data)"
      ],
      "execution_count": null,
      "outputs": [
        {
          "output_type": "execute_result",
          "data": {
            "text/plain": [
              "<matplotlib.axes._subplots.AxesSubplot at 0x7f02f7076b90>"
            ]
          },
          "metadata": {
            "tags": []
          },
          "execution_count": 40
        },
        {
          "output_type": "display_data",
          "data": {
            "image/png": "[encoded data removed]",
            "text/plain": [
              "<Figure size 1944x720 with 1 Axes>"
            ]
          },
          "metadata": {
            "tags": [],
            "needs_background": "light"
          }
        }
      ]
    },
    {
      "cell_type": "code",
      "metadata": {
        "colab": {
          "base_uri": "https://localhost:8080/",
          "height": 504
        },
        "id": "zQHeD3Z6GHeS",
        "outputId": "efae0251-ae2a-4795-af86-bbb2f4cde8ad"
      },
      "source": [
        "# 5.How does the cubic inches affect the average of the vehicle ?\n",
        "plt.figure(figsize=(27,10))\n",
        "sns.barplot(x=data['cubicinches'],y=data['mpg'],data=data)"
      ],
      "execution_count": null,
      "outputs": [
        {
          "output_type": "execute_result",
          "data": {
            "text/plain": [
              "<matplotlib.axes._subplots.AxesSubplot at 0x7f02f70de710>"
            ]
          },
          "metadata": {
            "tags": []
          },
          "execution_count": 44
        },
        {
          "output_type": "display_data",
          "data": {
            "image/png": "[encoded data removed]",
            "text/plain": [
              "<Figure size 1944x720 with 1 Axes>"
            ]
          },
          "metadata": {
            "tags": [],
            "needs_background": "light"
          }
        }
      ]
    },
    {
      "cell_type": "code",
      "metadata": {
        "colab": {
          "base_uri": "https://localhost:8080/",
          "height": 279
        },
        "id": "fTm2VR2FDSPh",
        "outputId": "9e8a7453-c929-4a47-f2eb-37a1f92f920d"
      },
      "source": [
        "# 6.What is the effect of the number of cylinders on the mpg ?\n",
        "plt.bar(data['cylinders'],data['mpg'])\n",
        "plt.xlabel('Cylinders')\n",
        "plt.ylabel('mpg')\n",
        "plt.show()"
      ],
      "execution_count": null,
      "outputs": [
        {
          "output_type": "display_data",
          "data": {
            "image/png": "[encoded data removed]",
            "text/plain": [
              "<Figure size 432x288 with 1 Axes>"
            ]
          },
          "metadata": {
            "tags": [],
            "needs_background": "light"
          }
        }
      ]
    },
    {
      "cell_type": "code",
      "metadata": {
        "colab": {
          "base_uri": "https://localhost:8080/",
          "height": 295
        },
        "id": "OVKs-K0BFaAl",
        "outputId": "04c3a52e-48fb-4fa1-e00d-05fd1a685062"
      },
      "source": [
        "# 7.What relation between cubic inches , number of cylinders and horsepower can\n",
        "# you observe from the data ?\n",
        "plt.bar(data['cylinders'],data['hp'],align='edge',width=0.4,label='HP')\n",
        "plt.bar(data['cylinders'],data['cubicinches'],align='edge',width=-0.4,label='Cubic inches')\n",
        "plt.xlabel('Cylinders')\n",
        "plt.title('Relation between cubic inches, number of cylinders and HP')\n",
        "plt.legend()\n",
        "plt.show()"
      ],
      "execution_count": null,
      "outputs": [
        {
          "output_type": "display_data",
          "data": {
            "image/png": "[encoded data removed]",
            "text/plain": [
              "<Figure size 432x288 with 1 Axes>"
            ]
          },
          "metadata": {
            "tags": [],
            "needs_background": "light"
          }
        }
      ]
    },
    {
      "cell_type": "code",
      "metadata": {
        "colab": {
          "base_uri": "https://localhost:8080/",
          "height": 264
        },
        "id": "uEmjpIwMIEIq",
        "outputId": "4e3001a4-16bc-4528-c3c7-e7be94601b6e"
      },
      "source": [
        "# 8.How much proportion of the total records is occupied by vehicles with 8\n",
        "# cylinders ?\n",
        "data['cylinders'].value_counts().plot(kind='pie',explode=[0,0.1,0,0,0],autopct='%0.1f',shadow=True)\n",
        "plt.title('Number of cylinders')\n",
        "plt.show()"
      ],
      "execution_count": null,
      "outputs": [
        {
          "output_type": "display_data",
          "data": {
            "image/png": "[encoded data removed]",
            "text/plain": [
              "<Figure size 432x288 with 1 Axes>"
            ]
          },
          "metadata": {
            "tags": []
          }
        }
      ]
    },
    {
      "cell_type": "code",
      "metadata": {
        "colab": {
          "base_uri": "https://localhost:8080/"
        },
        "id": "CSHPFINmJJ7m",
        "outputId": "525de812-9f3c-4bba-ab47-6abb2d5f971b"
      },
      "source": [
        "data['cylinders'].value_counts()"
      ],
      "execution_count": null,
      "outputs": [
        {
          "output_type": "execute_result",
          "data": {
            "text/plain": [
              "4    125\n",
              "8     76\n",
              "6     55\n",
              "5      3\n",
              "3      2\n",
              "Name: cylinders, dtype: int64"
            ]
          },
          "metadata": {
            "tags": []
          },
          "execution_count": 78
        }
      ]
    }
  ]
}